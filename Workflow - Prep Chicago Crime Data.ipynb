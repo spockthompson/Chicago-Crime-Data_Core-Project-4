{
 "cells": [
  {
   "cell_type": "markdown",
   "id": "6ec35eb1",
   "metadata": {},
   "source": [
    "# Prepare Chicago Crime Data for a GitHub Repository"
   ]
  },
  {
   "cell_type": "markdown",
   "id": "30284ecf",
   "metadata": {},
   "source": [
    "- Original Notebook Source: https://github.com/coding-dojo-data-science/preparing-chicago-crime-data\n",
    "- Updated 11/17/22"
   ]
  },
  {
   "cell_type": "markdown",
   "id": "8a7f3b6a",
   "metadata": {},
   "source": [
    ">- This notebook will process a \"Crimes - 2001 to Preset.csv\" crime file in your Downloads folder and save it as smaller .csv's in a new \"Data/Chicago/\" folder inside this notebook's folder/repo."
   ]
  },
  {
   "cell_type": "markdown",
   "id": "9c338d8e",
   "metadata": {},
   "source": [
    "# INSTRUCTIONS"
   ]
  },
  {
   "cell_type": "markdown",
   "id": "6509f0da",
   "metadata": {},
   "source": [
    "- 1) Go to the Chicago Data Portal's page for [\"Crimes - 2001 to Preset\"](https://data.cityofchicago.org/Public-Safety/Crimes-2001-to-Present/ijzp-q8t2).\n",
    "\n",
    "- 2) Click on the Export button on the top right and select CSV. \n",
    "    - Save the file to your Downloads folder instead of your repository. **The file is too big for a repository.**\n",
    "    \n",
    "    \n",
    "    \n",
    "- 3) Wait for the full file to download. \n",
    "    - It is very large (over >1.7GB and may take several minutes to fully download.)\n",
    "    \n",
    "    \n",
    "- 4) Once the download is complete, change `RAW_FILE` variable below to match the filepath to the downloaded file."
   ]
  },
  {
   "cell_type": "markdown",
   "id": "4627fa5b",
   "metadata": {},
   "source": [
    "## 🚨 Set the correct `RAW_FILE` path"
   ]
  },
  {
   "cell_type": "markdown",
   "id": "dc0efd42",
   "metadata": {},
   "source": [
    "- The cell below will attempt to check your Downloads folder for any file with a name that contains \"Crimes_-_2001_to_Present\".\n",
    "    - If you know the file path already, you can skip the next cell and just manually set the RAW_FILE variable in the following code cell."
   ]
  },
  {
   "cell_type": "code",
   "execution_count": 1,
   "id": "14eefd0c",
   "metadata": {},
   "outputs": [
    {
     "name": "stdout",
     "output_type": "stream",
     "text": [
      "- Your Downloads folder is 'C:\\Users\\scyjt\\Downloads/'\n",
      "\n"
     ]
    }
   ],
   "source": [
    "## Run the cell below to attempt to programmatically find your crime file\n",
    "import os,glob\n",
    "\n",
    "## Getting the home folder from environment variables\n",
    "home_folder = os.environ['HOME']\n",
    "# print(\"- Your Home Folder is: \" + home_folder)\n",
    "\n",
    "## Check for downloads folder\n",
    "if 'Downloads' in os.listdir(home_folder):\n",
    "    \n",
    "    \n",
    "    # Print the Downloads folder path\n",
    "    dl_folder = os.path.abspath(os.path.join(home_folder,'Downloads'))\n",
    "    print(f\"- Your Downloads folder is '{dl_folder}/'\\n\")\n",
    "    \n",
    "    ## checking for crime files using glob\n",
    "    crime_files = sorted(glob.glob(dl_folder+'/**/Crimes_-_2001_to_Present*',recursive=True))\n",
    "    \n",
    "    # If more than \n",
    "    if len(crime_files)==1:\n",
    "        RAW_FILE = crime_files[0]\n",
    "        \n",
    "    elif len(crime_files)>1:\n",
    "        print('[i] The following files were found:')\n",
    "        \n",
    "        for i, fname in enumerate(crime_files):\n",
    "            print(f\"\\tcrime_files[{i}] = '{fname}'\")\n",
    "        print(f'\\n- Please fill in the RAW_FILE variable in the code cell below with the correct filepath.')\n",
    "\n",
    "else:\n",
    "    print(f'[!] Could not programmatically find your downloads folder.')\n",
    "    print('- Try using Finder (on Mac) or File Explorer (Windows) to navigate to your Downloads folder.')\n"
   ]
  },
  {
   "cell_type": "code",
   "execution_count": 4,
   "id": "3c1267af",
   "metadata": {
    "scrolled": false
   },
   "outputs": [
    {
     "ename": "SyntaxError",
     "evalue": "(unicode error) 'unicodeescape' codec can't decode bytes in position 2-3: truncated \\UXXXXXXXX escape (1688936794.py, line 2)",
     "output_type": "error",
     "traceback": [
      "\u001b[1;36m  Cell \u001b[1;32mIn [4], line 2\u001b[1;36m\u001b[0m\n\u001b[1;33m    RAW_FILE = \"C:\\Users\\scyjt\\Downloads/\" #(or slice correct index from the crime_files list)\u001b[0m\n\u001b[1;37m                                           ^\u001b[0m\n\u001b[1;31mSyntaxError\u001b[0m\u001b[1;31m:\u001b[0m (unicode error) 'unicodeescape' codec can't decode bytes in position 2-3: truncated \\UXXXXXXXX escape\n"
     ]
    }
   ],
   "source": [
    "## (Required) MAKE SURE TO CHANGE THIS VARIABLE TO MATCH YOUR LOCAL FILE NAME\n",
    "RAW_FILE = \"C:\\Users\\scyjt\\Downloads/\" #(or slice correct index from the crime_files list)\n",
    "\n",
    "if RAW_FILE == \"C:\\Users\\scyjt\\Downloads/\":\n",
    "\traise Exception(\"You must update the RAW_FILE variable to match your local filepath.\")\n",
    "\t\n",
    "RAW_FILE"
   ]
  },
  {
   "cell_type": "code",
   "execution_count": null,
   "id": "f400f29a",
   "metadata": {},
   "outputs": [],
   "source": [
    "## (Optional) SET THE FOLDER FOR FINAL FILES\n",
    "OUTPUT_FOLDER = 'Data/Chicago/'\n",
    "os.makedirs(OUTPUT_FOLDER, exist_ok=True)"
   ]
  },
  {
   "cell_type": "markdown",
   "id": "894c80f3",
   "metadata": {},
   "source": [
    "# 🔄 Full Workflow"
   ]
  },
  {
   "cell_type": "markdown",
   "id": "b6fefbd7",
   "metadata": {},
   "source": [
    "- Now that your RAW_FILE variable is set either:\n",
    "    - On the toolbar, click on the Kernel menu > \"Restart and Run All\".\n",
    "    - OR click on this cell first, then on the toolbar click on the \"Cell\" menu > \"Run All Below\""
   ]
  },
  {
   "cell_type": "code",
   "execution_count": null,
   "id": "ea108387",
   "metadata": {
    "ExecuteTime": {
     "end_time": "2022-07-19T21:57:53.130039Z",
     "start_time": "2022-07-19T21:57:53.111531Z"
    }
   },
   "outputs": [],
   "source": [
    "import pandas as pd\n",
    "pd.set_option('display.max_columns', 100)\n",
    "pd.set_option('display.float_format',lambda x: f\"{x:,.2f}\")"
   ]
  },
  {
   "cell_type": "code",
   "execution_count": null,
   "id": "0a19b6d3",
   "metadata": {
    "ExecuteTime": {
     "end_time": "2022-07-19T21:57:53.130039Z",
     "start_time": "2022-07-19T21:57:53.111531Z"
    }
   },
   "outputs": [],
   "source": [
    "chicago_full = pd.read_csv(RAW_FILE)\n",
    "chicago_full"
   ]
  },
  {
   "cell_type": "code",
   "execution_count": null,
   "id": "2515b4e4",
   "metadata": {},
   "outputs": [],
   "source": [
    "# explicitly setting the format to speed up pd.to_datetime\n",
    "date_format = \"%m/%d/%Y %H:%M:%S %p\"\n",
    "\n",
    "\n",
    "### Demonstrating/testing date_format\n",
    "example = chicago_full.loc[0,'Date']\n",
    "display(example)\n",
    "pd.to_datetime(example,format=date_format)"
   ]
  },
  {
   "cell_type": "code",
   "execution_count": null,
   "id": "13ea2508",
   "metadata": {
    "ExecuteTime": {
     "end_time": "2022-07-19T22:00:56.546373Z",
     "start_time": "2022-07-19T21:58:59.582570Z"
    }
   },
   "outputs": [],
   "source": [
    "# this cell can take up to 1 min to run\n",
    "chicago_full['Datetime'] = pd.to_datetime(chicago_full['Date'], format=date_format)\n",
    "chicago_full = chicago_full.sort_values('Datetime')\n",
    "chicago_full = chicago_full.set_index('Datetime')\n",
    "chicago_full"
   ]
  },
  {
   "cell_type": "code",
   "execution_count": null,
   "id": "b08fc550",
   "metadata": {},
   "outputs": [],
   "source": [
    "(chicago_full.isna().sum()/len(chicago_full)).round(2)"
   ]
  },
  {
   "cell_type": "markdown",
   "id": "1d5375bd",
   "metadata": {},
   "source": [
    "## Separate the Full Dataset by Years"
   ]
  },
  {
   "cell_type": "code",
   "execution_count": null,
   "id": "387c9dac",
   "metadata": {
    "ExecuteTime": {
     "end_time": "2022-07-19T22:00:57.098220Z",
     "start_time": "2022-07-19T22:00:56.968728Z"
    }
   },
   "outputs": [],
   "source": [
    "# save the years for every crime\n",
    "chicago_full[\"Year\"] = chicago_full.index.year\n",
    "chicago_full[\"Year\"] = chicago_full[\"Year\"].astype(str)\n",
    "chicago_full[\"Year\"].value_counts()"
   ]
  },
  {
   "cell_type": "code",
   "execution_count": null,
   "id": "6417fc0d",
   "metadata": {
    "ExecuteTime": {
     "end_time": "2022-07-19T22:00:57.381210Z",
     "start_time": "2022-07-19T22:00:57.363196Z"
    }
   },
   "outputs": [],
   "source": [
    "## Dropping unneeded columns to reduce file size\n",
    "drop_cols = [\"X Coordinate\",\"Y Coordinate\", \"Community Area\",\"FBI Code\",\n",
    "             \"Case Number\",\"Updated On\",'Block','Location','IUCR']"
   ]
  },
  {
   "cell_type": "code",
   "execution_count": null,
   "id": "e90d0318",
   "metadata": {},
   "outputs": [],
   "source": [
    "# save final df\n",
    "chicago_final = chicago_full.drop(columns=drop_cols).sort_index()#.reset_index()\n",
    "chicago_final"
   ]
  },
  {
   "cell_type": "code",
   "execution_count": null,
   "id": "09b10723",
   "metadata": {},
   "outputs": [],
   "source": [
    "chicago_final.info()"
   ]
  },
  {
   "cell_type": "code",
   "execution_count": null,
   "id": "ee26cc65",
   "metadata": {},
   "outputs": [],
   "source": [
    "chicago_final.memory_usage(deep=True).astype(float)"
   ]
  },
  {
   "cell_type": "code",
   "execution_count": null,
   "id": "832f341c",
   "metadata": {
    "ExecuteTime": {
     "end_time": "2022-07-19T22:00:59.324800Z",
     "start_time": "2022-07-19T22:00:59.287027Z"
    }
   },
   "outputs": [],
   "source": [
    "# unique # of year bins\n",
    "year_bins = chicago_final['Year'].astype(str).unique()\n",
    "year_bins"
   ]
  },
  {
   "cell_type": "code",
   "execution_count": null,
   "id": "bb26f899",
   "metadata": {},
   "outputs": [],
   "source": [
    "FINAL_DROP = ['Datetime','Year']#,'Location Description']"
   ]
  },
  {
   "cell_type": "code",
   "execution_count": null,
   "id": "b76d5d31",
   "metadata": {
    "ExecuteTime": {
     "end_time": "2022-07-19T22:04:02.904774Z",
     "start_time": "2022-07-19T22:00:59.456601Z"
    }
   },
   "outputs": [],
   "source": [
    "## set save location \n",
    "\n",
    "os.makedirs(OUTPUT_FOLDER, exist_ok=True)\n",
    "print(f\"[i] Saving .csv's to {OUTPUT_FOLDER}\")\n",
    "## loop through years\n",
    "for year in year_bins:\n",
    "    \n",
    "    ## save temp slices of dfs to save.\n",
    "    temp_df = chicago_final.loc[ year]\n",
    "    temp_df = temp_df.reset_index(drop=False)\n",
    "    temp_df = temp_df.drop(columns=FINAL_DROP)\n",
    "\n",
    "    # save as csv to output folder\n",
    "    fname_temp = f\"{OUTPUT_FOLDER}Chicago-Crime_{year}.csv\"#.gz\n",
    "    temp_df.to_csv(fname_temp,index=False)\n",
    "\n",
    "    print(f\"- Succesfully saved {fname_temp}\")"
   ]
  },
  {
   "cell_type": "code",
   "execution_count": null,
   "id": "3737c458",
   "metadata": {},
   "outputs": [],
   "source": [
    "saved_files = sorted(glob.glob(OUTPUT_FOLDER+'*.*csv'))\n",
    "saved_files"
   ]
  },
  {
   "cell_type": "code",
   "execution_count": null,
   "id": "949a0499",
   "metadata": {
    "ExecuteTime": {
     "end_time": "2022-07-19T22:04:17.516765Z",
     "start_time": "2022-07-19T22:04:17.496966Z"
    }
   },
   "outputs": [],
   "source": [
    "## create a README.txt for the zip files\n",
    "readme = \"\"\"Source URL: \n",
    "- https://data.cityofchicago.org/Public-Safety/Crimes-2001-to-Present/ijzp-q8t2\n",
    "- Filtered for years 2000-Present.\n",
    "\n",
    "Downloaded 07/18/2022\n",
    "- Files are split into 1 year per file.\n",
    "\n",
    "EXAMPLE USAGE:\n",
    ">> import glob\n",
    ">> import pandas as pd\n",
    ">> folder = \"Data/Chicago/\"\n",
    ">> crime_files = sorted(glob.glob(folder+\"*.csv\"))\n",
    ">> df = pd.concat([pd.read_csv(f) for f in crime_files])\n",
    "\"\"\"\n",
    "print(readme)\n",
    "\n",
    "\n",
    "with open(f\"{OUTPUT_FOLDER}README.txt\",'w') as f:\n",
    "    f.write(readme)"
   ]
  },
  {
   "cell_type": "markdown",
   "id": "c5302540",
   "metadata": {},
   "source": [
    "## Confirmation"
   ]
  },
  {
   "cell_type": "markdown",
   "id": "4bc8e8ed",
   "metadata": {},
   "source": [
    "- Follow the example usage above to test if your files were created successfully."
   ]
  },
  {
   "cell_type": "code",
   "execution_count": null,
   "id": "23f44c51",
   "metadata": {},
   "outputs": [],
   "source": [
    "# get list of files from folder\n",
    "crime_files = sorted(glob.glob(OUTPUT_FOLDER+\"*.csv\"))\n",
    "df = pd.concat([pd.read_csv(f) for f in crime_files])\n",
    "df"
   ]
  },
  {
   "cell_type": "code",
   "execution_count": null,
   "id": "9552508d",
   "metadata": {},
   "outputs": [],
   "source": [
    "years = df['Date'].map(lambda x: x.split()[0].split('/')[-1])\n",
    "years.value_counts().sort_index()"
   ]
  },
  {
   "cell_type": "markdown",
   "id": "999fe20a",
   "metadata": {},
   "source": [
    "## Summary"
   ]
  },
  {
   "cell_type": "markdown",
   "id": "cda0d418",
   "metadata": {},
   "source": [
    "- The chicago crime dataset has now been saved to your repository as csv files. \n",
    "- You should save your notebook, commit your work and push to GitHub using GitHub desktop."
   ]
  }
 ],
 "metadata": {
  "kernelspec": {
   "display_name": "Python (dojo-env)",
   "language": "python",
   "name": "dojo-env"
  },
  "language_info": {
   "codemirror_mode": {
    "name": "ipython",
    "version": 3
   },
   "file_extension": ".py",
   "mimetype": "text/x-python",
   "name": "python",
   "nbconvert_exporter": "python",
   "pygments_lexer": "ipython3",
   "version": "3.9.15"
  },
  "toc": {
   "base_numbering": 1,
   "nav_menu": {},
   "number_sections": false,
   "sideBar": true,
   "skip_h1_title": false,
   "title_cell": "Table of Contents",
   "title_sidebar": "Contents",
   "toc_cell": false,
   "toc_position": {
    "height": "calc(100% - 180px)",
    "left": "10px",
    "top": "150px",
    "width": "262.387px"
   },
   "toc_section_display": true,
   "toc_window_display": false
  }
 },
 "nbformat": 4,
 "nbformat_minor": 5
}
