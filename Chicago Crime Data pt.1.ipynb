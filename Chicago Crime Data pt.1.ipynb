{
 "cells": [
  {
   "cell_type": "markdown",
   "id": "c06c41e5",
   "metadata": {},
   "source": [
    "# Chicago Crime Data\n",
    "- Source: Chicago Data Portal: Crimes 2001 to Present\n",
    "  - Data Description:\n",
    "  - All Crimes that were reported in the city of Chicago and their details\n",
    "\n",
    "Includes:\n",
    "- type of crime, exact date/time, lat/long, District/ward, was there an arrest, etc.\n",
    "  - Note: the .csv is very large and needs to be processed into smaller files to fit inside a GitHub repository. We have provided a helper notebook below to process your downloaded file into a repo-friendly format.\n",
    "- Data Processing Helper Notebook:\n",
    "  - Use the helper notebook in this repository to process your manually-downloaded csv into several .csv.gz files: https://github.com/coding-dojo-data-science/preparing-chicago-crime-data\n",
    "  - You can either Fork your own copy of the repository and rename it to be your \"Project 4\" repository, or you can download the notebook and save it in your own repository.\n",
    "- Supplemental Data: Holiday Data\n",
    "  - To answer some of the possible questions, you may need to perform some feature engineering, like adding holiday information from an API.\n",
    "  - We have provided an extract of holidays, but you may wish to extract additional holiday information for dates not included in this file.\n",
    "\n",
    "    - Raw CSV URL (Pandas): https://docs.google.com/spreadsheets/d/e/2PACX-1vTMR4vi1nFtbYO_WLqecU6WoRAQ0F-_QCMcuWUoZhuTygAP2U668cddCWBeAV2eop9fFdyXX856AB2j/pub?output=csv\n",
    "- Notes/Considerations:\n",
    "  - You may need to keep 2 forms of the data:\n",
    "  - The original individual crime data with a datetime index. (Each row is 1 crime)\n",
    "  - A resampled/converted crime counts version (Each row is 1 day)"
   ]
  },
  {
   "cell_type": "markdown",
   "id": "f4ac4d7d",
   "metadata": {},
   "source": [
    "## Task\n",
    "Our task is to answer a series of questions about trends in crimes in Chicago for a reporter for the local newspaper.\n",
    "\n",
    "- Stakeholder Questions to Answer (pick at least 3 topics) Select 3 or more of the following topics to analyze:\n",
    "1). Comparing Police Districts:\n",
    "  - Which district has the most crimes? Which has the least?\n",
    "  \n",
    "2). Crimes Across the Years:\n",
    "  - Is the total number of crimes increasing or decreasing across the years?\n",
    "  - Are there any individual crimes that are doing the opposite (e.g decreasing when overall crime is increasing or vice-versa)?\n",
    "  \n",
    "3). Comparing AM vs. PM Rush Hour:\n",
    "  - Are crimes more common during AM rush hour or PM rush hour?\n",
    "    - You can consider any crime that occurred between 7 AM - 10 AM as AM rush hour\n",
    "    - You can consider any crime that occurred between 4 -7 PM as PM rush hour.\n",
    "  - What are the top 5 most common crimes during AM rush hour? What are the top 5 most common crimes during PM rush hour?\n",
    "  - Are Motor Vehicle Thefts more common during AM rush hour or PM Rush Hour?\n",
    "  \n",
    "4). Comparing Months:\n",
    " - What months have the most crime? What months have the least?\n",
    " - Are there any individual crimes that do not follow this pattern? If so, which crimes?\n",
    " \n",
    "5). Comparing Holidays:\n",
    "  - Are there any holidays that show an increase in the # of crimes?\n",
    "  - Are there any holidays that show a decrease in the # of crimes?"
   ]
  },
  {
   "cell_type": "code",
   "execution_count": null,
   "id": "e86ae556",
   "metadata": {},
   "outputs": [],
   "source": []
  }
 ],
 "metadata": {
  "kernelspec": {
   "display_name": "Python (dojo-env)",
   "language": "python",
   "name": "dojo-env"
  },
  "language_info": {
   "codemirror_mode": {
    "name": "ipython",
    "version": 3
   },
   "file_extension": ".py",
   "mimetype": "text/x-python",
   "name": "python",
   "nbconvert_exporter": "python",
   "pygments_lexer": "ipython3",
   "version": "3.9.15"
  },
  "toc": {
   "base_numbering": 1,
   "nav_menu": {},
   "number_sections": false,
   "sideBar": true,
   "skip_h1_title": false,
   "title_cell": "Table of Contents",
   "title_sidebar": "Contents",
   "toc_cell": false,
   "toc_position": {},
   "toc_section_display": true,
   "toc_window_display": true
  }
 },
 "nbformat": 4,
 "nbformat_minor": 5
}
